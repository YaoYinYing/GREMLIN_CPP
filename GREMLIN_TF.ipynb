{
 "nbformat": 4,
 "nbformat_minor": 0,
 "metadata": {
  "colab": {
   "name": "GREMLIN_TF_v2.ipynb",
   "provenance": [],
   "collapsed_sections": [],
   "include_colab_link": true
  },
  "kernelspec": {
   "name": "python3",
   "display_name": "Python 3"
  },
  "accelerator": "GPU"
 },
 "cells": [
  {
   "cell_type": "markdown",
   "metadata": {
    "id": "view-in-github",
    "colab_type": "text"
   },
   "source": [
    "<a href=\"https://colab.research.google.com/github/sokrypton/GREMLIN_CPP/blob/master/GREMLIN_TF.ipynb\" target=\"_parent\"><img src=\"https://colab.research.google.com/assets/colab-badge.svg\" alt=\"Open In Colab\"/></a>"
   ]
  },
  {
   "cell_type": "markdown",
   "metadata": {
    "id": "mu2S86VhS-8t"
   },
   "source": [
    "# GREMLIN_TF v2.1\n",
    "GREMLIN implemented in tensorflow\n",
    "\n",
    "### Change log:\n",
    "*   02Apr2019\n",
    " - fixing a few hard-coded values, to allow GREMLIN to work with any alphabet (binary, protein, rna etc)\n",
    "*   22Jan2019\n",
    " - moving [GREMLIN_TF_simple](https://colab.research.google.com/github/sokrypton/GREMLIN_CPP/blob/master/GREMLIN_TF_simple.ipynb) to a seperate notebook\n",
    "*   19Jan2019\n",
    " - in the past we found that optimizing V first, required less iterations for convergence. Since V can be computed exactly (assuming no W), we replace this first optimization step with a simple V initialization.\n",
    " - a few variables were renamed to be consistent with the c++ version\n",
    "*   16Jan2019\n",
    " - updating how indices are handled (for easier/cleaner parsing)\n",
    " - minor speed up in how we symmetrize and zero the diagional of W\n",
    "*   15Jan2019\n",
    " - LBFGS optimizer replaced with a modified version of the ADAM optimizer\n",
    " - Added option for stochastic gradient descent (via batch_size)\n",
    "  \n",
    "### Method:\n",
    "GREMLIN takes a multiple sequence alignment (MSA) and returns a Markov Random Field (MRF). The MRF consists of a one-body term (V) that encodes conservation, and a two-body term (W) that encodes co-evolution.\n",
    "\n",
    "For more details about the method see:\n",
    "[Google slides](https://docs.google.com/presentation/d/1aooxoksosSv7CWs9-ktqhUjyXR3wrgbG5a6PCr92od4/) and accompanying [Google colab](https://colab.research.google.com/drive/17RJcExuyifnd7ShTcsZGh6mBpWq0-s60)\n",
    "\n",
    "See [GREMLIN_TF_simple](https://colab.research.google.com/github/sokrypton/GREMLIN_CPP/blob/master/GREMLIN_TF_simple.ipynb) for a stripped down version of this code (with no funky gap removal, sequence weight, etc). This is intented for educational purpose,  and could also be very useful for anyone trying to modify or improve the algorithm!\n"
   ]
  },
  {
   "cell_type": "code",
   "metadata": {
    "id": "yM3wyYU5SwYn"
   },
   "source": [
    "# ------------------------------------------------------------\n",
    "# \"THE BEERWARE LICENSE\" (Revision 42):\n",
    "# <so@g.harvard.edu> and <pkk382@g.harvard.edu> wrote this code.\n",
    "# As long as you retain this notice, you can do whatever you want\n",
    "# with this stuff. If we meet someday, and you think this stuff\n",
    "# is worth it, you can buy us a beer in return.\n",
    "# --Sergey Ovchinnikov and Peter Koo\n",
    "# ------------------------------------------------------------"
   ],
   "execution_count": 1,
   "outputs": []
  },
  {
   "cell_type": "markdown",
   "metadata": {
    "id": "NLUvPVyxb7bo"
   },
   "source": [
    "## libraries"
   ]
  },
  {
   "cell_type": "code",
   "metadata": {
    "id": "YyJpLM_tJfrY"
   },
   "source": [
    "# IMPORTANT, only tested using PYTHON 3!\n",
    "import numpy as np\n",
    "import tensorflow.compat.v1 as tf\n",
    "tf.disable_eager_execution()\n",
    "import matplotlib.pylab as plt\n",
    "from scipy import stats\n",
    "from scipy.spatial.distance import pdist,squareform\n",
    "import pandas as pd\n",
    "import Bio.SeqIO\n",
    "import pathlib"
   ],
   "execution_count": 10,
   "outputs": []
  },
  {
   "cell_type": "markdown",
   "metadata": {
    "id": "j0Yp7bPRmvwU"
   },
   "source": [
    "## Params"
   ]
  },
  {
   "cell_type": "code",
   "metadata": {
    "id": "o3c7KURqmugY"
   },
   "source": [
    "################\n",
    "# note: if you are modifying the alphabet\n",
    "# make sure last character is \"-\" (gap)\n",
    "################\n",
    "alphabet = \"ARNDCQEGHILKMFPSTWYV-\"\n",
    "states = len(alphabet)\n",
    "a2n = {}\n",
    "for a,n in zip(alphabet,range(states)):\n",
    "  a2n[a] = n\n",
    "################\n",
    "\n",
    "def aa2num(aa):\n",
    "  '''convert aa into num'''\n",
    "  if aa in a2n: return a2n[aa]\n",
    "  else: return a2n['-']"
   ],
   "execution_count": 11,
   "outputs": []
  },
  {
   "cell_type": "markdown",
   "metadata": {
    "id": "bX6GXKV3I2pm"
   },
   "source": [
    "## Functions for prepping the MSA (Multiple sequence alignment)"
   ]
  },
  {
   "cell_type": "code",
   "metadata": {
    "id": "zA0Bne59SUIu"
   },
   "source": [
    "def parse_msa(filename, limit=-1,suffix=\"\"):\n",
    "    if suffix == \"\": suffix=pathlib.Path(filename).resolve().suffix\n",
    "    header = []\n",
    "    sequence = []\n",
    "    records=Bio.SeqIO.parse(open(filename),suffix)\n",
    "    for r in records:\n",
    "        if len(header)==limit:\n",
    "            break\n",
    "        header.append(r.id)\n",
    "        sequence.append(r.seq)\n",
    "    return np.array(header), np.array(sequence)\n",
    "    \n",
    "\n",
    "# from fasta\n",
    "def parse_fasta(filename,limit=-1):\n",
    "  '''function to parse fasta'''\n",
    "  header = []\n",
    "  sequence = []\n",
    "  lines = open(filename, \"r\")\n",
    "  for line in lines:\n",
    "    line = line.rstrip()\n",
    "    if line[0] == \">\":\n",
    "      if len(header) == limit:\n",
    "        break\n",
    "      header.append(line[1:])\n",
    "      sequence.append([])\n",
    "    else:\n",
    "      sequence[-1].append(line)\n",
    "  lines.close()\n",
    "  sequence = [''.join(seq) for seq in sequence]\n",
    "  return np.array(header), np.array(sequence)\n",
    "\n",
    "def filt_gaps(msa,gap_cutoff=0.5):\n",
    "  '''filters alignment to remove gappy positions'''\n",
    "  tmp = (msa == states-1).astype(np.float)\n",
    "  non_gaps = np.where(np.sum(tmp.T,-1).T/msa.shape[0] < gap_cutoff)[0]\n",
    "  return msa[:,non_gaps],non_gaps\n",
    "\n",
    "def get_eff(msa,eff_cutoff=0.8):\n",
    "  '''compute effective weight for each sequence'''\n",
    "  ncol = msa.shape[1]\n",
    "  \n",
    "  # pairwise identity\n",
    "  msa_sm = 1.0 - squareform(pdist(msa,\"hamming\"))\n",
    "\n",
    "  # weight for each sequence\n",
    "  msa_w = (msa_sm >= eff_cutoff).astype(np.float)\n",
    "  msa_w = 1/np.sum(msa_w,-1)\n",
    "  \n",
    "  return msa_w\n",
    "\n",
    "def mk_msa(seqs):\n",
    "  '''converts list of sequences to msa'''\n",
    "  \n",
    "  msa_ori = []\n",
    "  for seq in seqs:\n",
    "    msa_ori.append([aa2num(aa) for aa in seq])\n",
    "  msa_ori = np.array(msa_ori)\n",
    "  \n",
    "  # remove positions with more than > 50% gaps\n",
    "  msa, v_idx = filt_gaps(msa_ori,0.5)\n",
    "  \n",
    "  # compute effective weight for each sequence\n",
    "  msa_weights = get_eff(msa,0.8)\n",
    "\n",
    "  # compute effective number of sequences\n",
    "  ncol = msa.shape[1] # length of sequence\n",
    "  w_idx = v_idx[np.stack(np.triu_indices(ncol,1),-1)]\n",
    "  \n",
    "  return {\"msa_ori\":msa_ori,\n",
    "          \"msa\":msa,\n",
    "          \"weights\":msa_weights,\n",
    "          \"neff\":np.sum(msa_weights),\n",
    "          \"v_idx\":v_idx,\n",
    "          \"w_idx\":w_idx,\n",
    "          \"nrow\":msa.shape[0],\n",
    "          \"ncol\":ncol,\n",
    "          \"ncol_ori\":msa_ori.shape[1]}\n"
   ],
   "execution_count": 12,
   "outputs": []
  },
  {
   "cell_type": "markdown",
   "metadata": {
    "id": "fky6gk-HlFyi"
   },
   "source": [
    "## GREMLIN"
   ]
  },
  {
   "cell_type": "code",
   "metadata": {
    "id": "gx14M7Tvu-Ct"
   },
   "source": [
    "# external functions\n",
    "\n",
    "def sym_w(w):\n",
    "  '''symmetrize input matrix of shape (x,y,x,y)'''\n",
    "  x = w.shape[0]\n",
    "  w = w * np.reshape(1-np.eye(x),(x,1,x,1))\n",
    "  w = w + tf.transpose(w,[2,3,0,1])\n",
    "  return w\n",
    "\n",
    "def opt_adam(loss, name, var_list=None, lr=1.0, b1=0.9, b2=0.999, b_fix=False):\n",
    "  # adam optimizer\n",
    "  # Note: this is a modified version of adam optimizer. More specifically, we replace \"vt\"\n",
    "  # with sum(g*g) instead of (g*g). Furthmore, we find that disabling the bias correction\n",
    "  # (b_fix=False) speeds up convergence for our case.\n",
    "  \n",
    "  if var_list is None: var_list = tf.trainable_variables() \n",
    "  gradients = tf.gradients(loss,var_list)\n",
    "  if b_fix: t = tf.Variable(0.0,\"t\")\n",
    "  opt = []\n",
    "  for n,(x,g) in enumerate(zip(var_list,gradients)):\n",
    "    if g is not None:\n",
    "      ini = dict(initializer=tf.zeros_initializer,trainable=False)\n",
    "      mt = tf.get_variable(name+\"_mt_\"+str(n),shape=list(x.shape), **ini)\n",
    "      vt = tf.get_variable(name+\"_vt_\"+str(n),shape=[], **ini)\n",
    "      \n",
    "      mt_tmp = b1*mt+(1-b1)*g\n",
    "      vt_tmp = b2*vt+(1-b2)*tf.reduce_sum(tf.square(g))\n",
    "      lr_tmp = lr/(tf.sqrt(vt_tmp) + 1e-8)\n",
    "\n",
    "      if b_fix: lr_tmp = lr_tmp * tf.sqrt(1-tf.pow(b2,t))/(1-tf.pow(b1,t))\n",
    "\n",
    "      opt.append(x.assign_add(-lr_tmp * mt_tmp))\n",
    "      opt.append(vt.assign(vt_tmp))\n",
    "      opt.append(mt.assign(mt_tmp))\n",
    "        \n",
    "  if b_fix: opt.append(t.assign_add(1.0))\n",
    "  return(tf.group(opt))"
   ],
   "execution_count": 13,
   "outputs": []
  },
  {
   "cell_type": "code",
   "metadata": {
    "id": "BqYqlJAXVI9N"
   },
   "source": [
    "def GREMLIN(msa, opt_type=\"adam\", opt_iter=100, opt_rate=1.0, batch_size=None):\n",
    "  \n",
    "  ##############################################################\n",
    "  # SETUP COMPUTE GRAPH\n",
    "  ##############################################################\n",
    "  # kill any existing tensorflow graph\n",
    "  tf.reset_default_graph()\n",
    "  \n",
    "  ncol = msa[\"ncol\"] # length of sequence\n",
    "\n",
    "  # msa (multiple sequence alignment) \n",
    "  MSA = tf.placeholder(tf.int32,shape=(None,ncol),name=\"msa\")\n",
    "  \n",
    "  # one-hot encode msa\n",
    "  OH_MSA = tf.one_hot(MSA,states)\n",
    "  \n",
    "  # msa weights\n",
    "  MSA_weights = tf.placeholder(tf.float32, shape=(None,), name=\"msa_weights\")\n",
    "  \n",
    "  # 1-body-term of the MRF\n",
    "  V = tf.get_variable(name=\"V\", \n",
    "                      shape=[ncol,states],\n",
    "                      initializer=tf.zeros_initializer)\n",
    "\n",
    "  # 2-body-term of the MRF\n",
    "  W = tf.get_variable(name=\"W\",\n",
    "                      shape=[ncol,states,ncol,states],\n",
    "                      initializer=tf.zeros_initializer)\n",
    "  \n",
    "  # symmetrize W\n",
    "  W = sym_w(W)\n",
    "  \n",
    "  def L2(x): return tf.reduce_sum(tf.square(x))\n",
    "  \n",
    "  ########################################\n",
    "  # V + W\n",
    "  ########################################\n",
    "  VW = V + tf.tensordot(OH_MSA,W,2)\n",
    "\n",
    "  # hamiltonian\n",
    "  H = tf.reduce_sum(tf.multiply(OH_MSA,VW),axis=(1,2))\n",
    "  # local Z (parition function)\n",
    "  Z = tf.reduce_sum(tf.reduce_logsumexp(VW,axis=2),axis=1)\n",
    "\n",
    "  # Psuedo-Log-Likelihood\n",
    "  PLL = H - Z\n",
    "\n",
    "  # Regularization\n",
    "  L2_V = 0.01 * L2(V)\n",
    "  L2_W = 0.01 * L2(W) * 0.5 * (ncol-1) * (states-1)\n",
    "\n",
    "  # loss function to minimize\n",
    "  loss = -tf.reduce_sum(PLL*MSA_weights)/tf.reduce_sum(MSA_weights)\n",
    "  loss = loss + (L2_V + L2_W)/msa[\"neff\"]\n",
    "\n",
    "  ##############################################################\n",
    "  # MINIMIZE LOSS FUNCTION\n",
    "  ##############################################################\n",
    "  if opt_type == \"adam\":  \n",
    "    opt = opt_adam(loss,\"adam\",lr=opt_rate)\n",
    "\n",
    "  # generate input/feed\n",
    "  def feed(feed_all=False):\n",
    "    if batch_size is None or feed_all:\n",
    "      return {MSA:msa[\"msa\"], MSA_weights:msa[\"weights\"]}\n",
    "    else:\n",
    "      idx = np.random.randint(0,msa[\"nrow\"],size=batch_size)\n",
    "      return {MSA:msa[\"msa\"][idx], MSA_weights:msa[\"weights\"][idx]}\n",
    "  \n",
    "  # optimize!\n",
    "  with tf.Session() as sess:\n",
    "    # initialize variables V and W\n",
    "    sess.run(tf.global_variables_initializer())\n",
    "    \n",
    "    # initialize V\n",
    "    msa_cat = tf.keras.utils.to_categorical(msa[\"msa\"],states)\n",
    "    pseudo_count = 0.01 * np.log(msa[\"neff\"])\n",
    "    V_ini = np.log(np.sum(msa_cat.T * msa[\"weights\"],-1).T + pseudo_count)\n",
    "    V_ini = V_ini - np.mean(V_ini,-1,keepdims=True)\n",
    "    sess.run(V.assign(V_ini))\n",
    "    \n",
    "    # compute loss across all data\n",
    "    get_loss = lambda: round(sess.run(loss,feed(feed_all=True)) * msa[\"neff\"],2)\n",
    "    print(\"starting\",get_loss())\n",
    "    \n",
    "    if opt_type == \"lbfgs\":\n",
    "      lbfgs = tf.contrib.opt.ScipyOptimizerInterface\n",
    "      opt = lbfgs(loss,method=\"L-BFGS-B\",options={'maxiter': opt_iter})\n",
    "      opt.minimize(sess,feed(feed_all=True))\n",
    "      \n",
    "    if opt_type == \"adam\":\n",
    "      for i in range(opt_iter):\n",
    "        sess.run(opt,feed())  \n",
    "        if (i+1) % int(opt_iter/10) == 0:\n",
    "          print(\"iter\",(i+1),get_loss())\n",
    "    \n",
    "    # save the V and W parameters of the MRF\n",
    "    V_ = sess.run(V)\n",
    "    W_ = sess.run(W)\n",
    "    \n",
    "  # only return upper-right triangle of matrix (since it's symmetric)\n",
    "  tri = np.triu_indices(ncol,1)\n",
    "  W_ = W_[tri[0],:,tri[1],:]\n",
    "  \n",
    "  mrf = {\"v\": V_,\n",
    "         \"w\": W_,\n",
    "         \"v_idx\": msa[\"v_idx\"],\n",
    "         \"w_idx\": msa[\"w_idx\"]}\n",
    "  \n",
    "  return mrf"
   ],
   "execution_count": 14,
   "outputs": []
  },
  {
   "cell_type": "markdown",
   "metadata": {
    "id": "mppg0JLtP25z"
   },
   "source": [
    "## EXAMPLE"
   ]
  },
  {
   "cell_type": "code",
   "metadata": {
    "id": "bnigmLmAlyWv"
   },
   "source": [
    "# download example fasta MSA\n",
    "!wget -q -nc https://gremlin2.bakerlab.org/db/PDB_EXP/fasta/4FAZA.fas"
   ],
   "execution_count": 15,
   "outputs": []
  },
  {
   "cell_type": "code",
   "metadata": {
    "id": "osaZwTSMOicF"
   },
   "source": [
    "# ===============================================================================\n",
    "# PREP MSA\n",
    "# ===============================================================================\n",
    "# parse fasta\n",
    "names, seqs = parse_msa(\"4FAZA.fas\",suffix=\"fasta\")\n",
    "\n",
    "# process input sequences\n",
    "msa = mk_msa(seqs)"
   ],
   "execution_count": 16,
   "outputs": []
  },
  {
   "cell_type": "code",
   "metadata": {
    "id": "CoBRuqmVVrbD",
    "colab": {
     "base_uri": "https://localhost:8080/"
    },
    "outputId": "4c0511ab-2010-499f-cd45-394a48c9dba4"
   },
   "source": [
    "%%time\n",
    "# ===============================================================================\n",
    "# RUN GREMLIN\n",
    "# ===============================================================================\n",
    "# Note: the original GREMLIN uses the \"lbfgs\" optimizer which is EXTREMELY slow \n",
    "# in tensorflow. The modified adam optimizer is much faster, but may \n",
    "# require adjusting number of iterations (opt_iter) to converge to the same \n",
    "# solution. To switch back to the original, set opt_type=\"lbfgs\".\n",
    "# ===============================================================================\n",
    "mrf = GREMLIN(msa)"
   ],
   "execution_count": 17,
   "outputs": [
    {
     "output_type": "stream",
     "name": "stdout",
     "text": [
      "starting 50463.14\n",
      "iter 10 29873.73\n",
      "iter 20 27907.74\n",
      "iter 30 26972.23\n",
      "iter 40 26687.46\n",
      "iter 50 26576.22\n",
      "iter 60 26540.93\n",
      "iter 70 26524.79\n",
      "iter 80 26518.27\n",
      "iter 90 26515.09\n",
      "iter 100 26513.35\n",
      "CPU times: user 1.89 s, sys: 590 ms, total: 2.47 s\n",
      "Wall time: 9.53 s\n"
     ]
    }
   ]
  },
  {
   "cell_type": "markdown",
   "metadata": {
    "id": "jCrfC2Um4xww"
   },
   "source": [
    "## Explore the contact map\n",
    "### Contact prediction:\n",
    "\n",
    "For contact prediction, the W matrix is reduced from LxLx21x21 to LxL matrix (by taking the L2norm for each of the 20x20). In the code below, you can access this as mtx[\"raw\"]. Further correction (average product correction) is then performed to the mtx[\"raw\"] to remove the effects of entropy, mtx[\"apc\"]. The relative ranking of mtx[\"apc\"] is used to assess importance. When there are enough effective sequences (>1000), we find that the top 1.0L contacts are ~90% accurate! When the number of effective sequences is lower, NN can help clean noise and fill in missing contacts.\n"
   ]
  },
  {
   "cell_type": "markdown",
   "metadata": {
    "id": "XxgQArVUPyPH"
   },
   "source": [
    "## Functions for extracting contacts from MRF"
   ]
  },
  {
   "cell_type": "code",
   "metadata": {
    "id": "nMxp7up_P1_q"
   },
   "source": [
    "###################\n",
    "def normalize(x):\n",
    "  x = stats.boxcox(x - np.amin(x) + 1.0)[0]\n",
    "  x_mean = np.mean(x)\n",
    "  x_std = np.std(x)\n",
    "  return((x-x_mean)/x_std)\n",
    "\n",
    "def get_mtx(mrf):\n",
    "  '''get mtx given mrf'''\n",
    "  \n",
    "  # l2norm of 20x20 matrices (note: we ignore gaps)\n",
    "  raw = np.sqrt(np.sum(np.square(mrf[\"w\"][:,:-1,:-1]),(1,2)))\n",
    "  raw_sq = squareform(raw)\n",
    "\n",
    "  # apc (average product correction)\n",
    "  ap_sq = np.sum(raw_sq,0,keepdims=True)*np.sum(raw_sq,1,keepdims=True)/np.sum(raw_sq)\n",
    "  apc = squareform(raw_sq - ap_sq, checks=False)\n",
    "\n",
    "  mtx = {\"i\": mrf[\"w_idx\"][:,0],\n",
    "         \"j\": mrf[\"w_idx\"][:,1],\n",
    "         \"raw\": raw,\n",
    "         \"apc\": apc,\n",
    "         \"zscore\": normalize(apc)}\n",
    "  return mtx\n",
    "\n",
    "def plot_mtx(mtx,key=\"zscore\",vmin=1,vmax=3):\n",
    "  '''plot the mtx'''\n",
    "  plt.figure(figsize=(5,5))\n",
    "  plt.imshow(squareform(mtx[key]), cmap='Blues', interpolation='none', vmin=vmin, vmax=vmax)\n",
    "  plt.grid(False)\n",
    "  plt.show()"
   ],
   "execution_count": 18,
   "outputs": []
  },
  {
   "cell_type": "code",
   "metadata": {
    "id": "RSleviAVPJ36",
    "colab": {
     "base_uri": "https://localhost:8080/",
     "height": 321
    },
    "outputId": "8c34f3ea-ff91-4e36-ee01-46ff05e15a3f"
   },
   "source": [
    "mtx = get_mtx(mrf)  \n",
    "plot_mtx(mtx)"
   ],
   "execution_count": 19,
   "outputs": [
    {
     "data": {
      "image/png": "[encoded data removed]",
      "text/plain": [
       "<Figure size 360x360 with 1 Axes>"
      ]
     },
     "metadata": {},
     "output_type": "display_data"
    }
   ]
  },
  {
   "cell_type": "markdown",
   "metadata": {
    "id": "qWaTHLTH5rGw"
   },
   "source": [
    "## Look at top co-evolving residue pairs"
   ]
  },
  {
   "cell_type": "code",
   "metadata": {
    "id": "9A2yeOJ8uPNM",
    "colab": {
     "base_uri": "https://localhost:8080/",
     "height": 359
    },
    "outputId": "f397715a-8fa0-40f2-d239-3c5ab1ab8c08"
   },
   "source": [
    "######################################################################################\n",
    "# WARNING - WARNING - WARNING\n",
    "######################################################################################\n",
    "# - the i,j index starts at 0 (zero)\n",
    "# - the \"first\" position = 0\n",
    "# - often in biology first position of a sequence is 1\n",
    "#   for this index use i_aa and j_aa!\n",
    "\n",
    "# adding amino acid to index\n",
    "mtx[\"i_aa\"] = np.array([alphabet[msa['msa_ori'][0][i]]+\"_\"+str(i+1) for i in mtx[\"i\"]])\n",
    "mtx[\"j_aa\"] = np.array([alphabet[msa['msa_ori'][0][j]]+\"_\"+str(j+1) for j in mtx[\"j\"]])\n",
    "\n",
    "# load mtx into pandas dataframe\n",
    "pd_mtx = pd.DataFrame(mtx,columns=[\"i\",\"j\",\"apc\",\"zscore\",\"i_aa\",\"j_aa\"])\n",
    "\n",
    "# get contacts with sequence seperation > 5\n",
    "# sort by zscore, show top 10\n",
    "top = pd_mtx.loc[pd_mtx['j'] - pd_mtx['i'] > 5].sort_values(\"zscore\",ascending=False)\n",
    "top.head(10)"
   ],
   "execution_count": 20,
   "outputs": [
    {
     "data": {
      "text/html": [
       "<div>\n",
       "<style scoped>\n",
       "    .dataframe tbody tr th:only-of-type {\n",
       "        vertical-align: middle;\n",
       "    }\n",
       "\n",
       "    .dataframe tbody tr th {\n",
       "        vertical-align: top;\n",
       "    }\n",
       "\n",
       "    .dataframe thead th {\n",
       "        text-align: right;\n",
       "    }\n",
       "</style>\n",
       "<table border=\"1\" class=\"dataframe\">\n",
       "  <thead>\n",
       "    <tr style=\"text-align: right;\">\n",
       "      <th></th>\n",
       "      <th>i</th>\n",
       "      <th>j</th>\n",
       "      <th>apc</th>\n",
       "      <th>zscore</th>\n",
       "      <th>i_aa</th>\n",
       "      <th>j_aa</th>\n",
       "    </tr>\n",
       "  </thead>\n",
       "  <tbody>\n",
       "    <tr>\n",
       "      <th>1056</th>\n",
       "      <td>21</td>\n",
       "      <td>28</td>\n",
       "      <td>0.876234</td>\n",
       "      <td>2.976396</td>\n",
       "      <td>K_22</td>\n",
       "      <td>E_29</td>\n",
       "    </tr>\n",
       "    <tr>\n",
       "      <th>881</th>\n",
       "      <td>16</td>\n",
       "      <td>58</td>\n",
       "      <td>0.846978</td>\n",
       "      <td>2.960233</td>\n",
       "      <td>R_17</td>\n",
       "      <td>A_59</td>\n",
       "    </tr>\n",
       "    <tr>\n",
       "      <th>142</th>\n",
       "      <td>2</td>\n",
       "      <td>26</td>\n",
       "      <td>0.817712</td>\n",
       "      <td>2.942693</td>\n",
       "      <td>A_3</td>\n",
       "      <td>M_27</td>\n",
       "    </tr>\n",
       "    <tr>\n",
       "      <th>999</th>\n",
       "      <td>19</td>\n",
       "      <td>50</td>\n",
       "      <td>0.784957</td>\n",
       "      <td>2.921262</td>\n",
       "      <td>I_20</td>\n",
       "      <td>G_51</td>\n",
       "    </tr>\n",
       "    <tr>\n",
       "      <th>820</th>\n",
       "      <td>15</td>\n",
       "      <td>41</td>\n",
       "      <td>0.704959</td>\n",
       "      <td>2.859523</td>\n",
       "      <td>K_16</td>\n",
       "      <td>I_42</td>\n",
       "    </tr>\n",
       "    <tr>\n",
       "      <th>488</th>\n",
       "      <td>8</td>\n",
       "      <td>45</td>\n",
       "      <td>0.663213</td>\n",
       "      <td>2.820979</td>\n",
       "      <td>E_9</td>\n",
       "      <td>P_46</td>\n",
       "    </tr>\n",
       "    <tr>\n",
       "      <th>251</th>\n",
       "      <td>4</td>\n",
       "      <td>22</td>\n",
       "      <td>0.658282</td>\n",
       "      <td>2.816094</td>\n",
       "      <td>I_5</td>\n",
       "      <td>V_23</td>\n",
       "    </tr>\n",
       "    <tr>\n",
       "      <th>1278</th>\n",
       "      <td>27</td>\n",
       "      <td>37</td>\n",
       "      <td>0.599291</td>\n",
       "      <td>2.751493</td>\n",
       "      <td>M_28</td>\n",
       "      <td>V_38</td>\n",
       "    </tr>\n",
       "    <tr>\n",
       "      <th>934</th>\n",
       "      <td>18</td>\n",
       "      <td>26</td>\n",
       "      <td>0.583831</td>\n",
       "      <td>2.732487</td>\n",
       "      <td>V_19</td>\n",
       "      <td>M_27</td>\n",
       "    </tr>\n",
       "    <tr>\n",
       "      <th>326</th>\n",
       "      <td>5</td>\n",
       "      <td>42</td>\n",
       "      <td>0.553874</td>\n",
       "      <td>2.692869</td>\n",
       "      <td>Y_6</td>\n",
       "      <td>H_43</td>\n",
       "    </tr>\n",
       "  </tbody>\n",
       "</table>\n",
       "</div>"
      ],
      "text/plain": [
       "       i   j       apc    zscore  i_aa  j_aa\n",
       "1056  21  28  0.876234  2.976396  K_22  E_29\n",
       "881   16  58  0.846978  2.960233  R_17  A_59\n",
       "142    2  26  0.817712  2.942693   A_3  M_27\n",
       "999   19  50  0.784957  2.921262  I_20  G_51\n",
       "820   15  41  0.704959  2.859523  K_16  I_42\n",
       "488    8  45  0.663213  2.820979   E_9  P_46\n",
       "251    4  22  0.658282  2.816094   I_5  V_23\n",
       "1278  27  37  0.599291  2.751493  M_28  V_38\n",
       "934   18  26  0.583831  2.732487  V_19  M_27\n",
       "326    5  42  0.553874  2.692869   Y_6  H_43"
      ]
     },
     "execution_count": null,
     "metadata": {},
     "output_type": "execute_result"
    }
   ]
  },
  {
   "cell_type": "markdown",
   "metadata": {
    "id": "wqG93dC12CKx"
   },
   "source": [
    "## Explore the MRF"
   ]
  },
  {
   "cell_type": "code",
   "metadata": {
    "id": "k6BsheyNx3ID",
    "colab": {
     "base_uri": "https://localhost:8080/",
     "height": 333
    },
    "outputId": "f5df2553-66d7-48e4-e231-cd83b237b756"
   },
   "source": [
    "def plot_v(mrf):  \n",
    "  al_a = list(alphabet)\n",
    "  v = mrf[\"v\"].T\n",
    "  mx = np.max((v.max(),np.abs(v.min())))\n",
    "  plt.figure(figsize=(v.shape[1]/4,states/4))\n",
    "  plt.imshow(-v,cmap='bwr',vmin=-mx,vmax=mx)\n",
    "  plt.xticks(np.arange(v.shape[1]))\n",
    "  plt.yticks(np.arange(0,states))\n",
    "  plt.grid(False)\n",
    "  ax = plt.gca()\n",
    "  ax.xaxis.set_major_formatter(plt.FuncFormatter(lambda x,y: mrf[\"v_idx\"][x])) \n",
    "  ax.yaxis.set_major_formatter(plt.FuncFormatter(lambda x,y: al_a[x]))\n",
    "  \n",
    "plot_v(mrf)"
   ],
   "execution_count": 21,
   "outputs": [
    {
     "data": {
      "image/png": "[encoded data removed]",
      "text/plain": [
       "<Figure size 1098x378 with 1 Axes>"
      ]
     },
     "metadata": {},
     "output_type": "display_data"
    }
   ]
  },
  {
   "cell_type": "code",
   "metadata": {
    "id": "OER2wALRvTkK",
    "colab": {
     "base_uri": "https://localhost:8080/",
     "height": 681
    },
    "outputId": "d4df0720-6edf-48c5-8b60-b6d13d387c31"
   },
   "source": [
    "def plot_w(mrf,i,j):\n",
    "  \n",
    "  n = int(np.where((mrf[\"w_idx\"][:,0] == i)&(mrf[\"w_idx\"][:,1] == j))[0])\n",
    "  w = mrf[\"w\"][n]\n",
    "  \n",
    "  mx = np.max((w.max(),np.abs(w.min())))\n",
    "  plt.figure(figsize=(states/4,states/4))\n",
    "  plt.imshow(-w,cmap='bwr',vmin=-mx,vmax=mx)\n",
    "  plt.xticks(np.arange(0,states))\n",
    "  plt.yticks(np.arange(0,states))\n",
    "  plt.grid(False)\n",
    "  \n",
    "  ax = plt.gca()\n",
    "  al_a = list(alphabet)\n",
    "  ax.xaxis.set_major_formatter(plt.FuncFormatter(lambda x,y: al_a[x])) \n",
    "  ax.yaxis.set_major_formatter(plt.FuncFormatter(lambda x,y: al_a[x]))\n",
    "  plt.title(f\"W for positions {i} and {j}\")\n",
    "  plt.show()\n",
    "\n",
    "for n in range(2):\n",
    "  i = int(top.iloc[n][\"i\"])\n",
    "  j = int(top.iloc[n][\"j\"])\n",
    "  plot_w(mrf,i,j)"
   ],
   "execution_count": 22,
   "outputs": [
    {
     "data": {
      "image/png": "[encoded data removed]",
      "text/plain": [
       "<Figure size 378x378 with 1 Axes>"
      ]
     },
     "metadata": {},
     "output_type": "display_data"
    },
    {
     "data": {
      "image/png": "[encoded data removed]",
      "text/plain": [
       "<Figure size 378x378 with 1 Axes>"
      ]
     },
     "metadata": {},
     "output_type": "display_data"
    }
   ]
  },
  {
   "cell_type": "markdown",
   "metadata": {
    "id": "xv2anXSUX9kr"
   },
   "source": [
    "## validating output\n",
    "(comparing to known output from GREMLIN_cpp version)"
   ]
  },
  {
   "cell_type": "code",
   "metadata": {
    "id": "RBIvsIQ9X74s"
   },
   "source": [
    "!wget -q -nc http://files.ipd.uw.edu/krypton/4FAZA.out"
   ],
   "execution_count": 23,
   "outputs": []
  },
  {
   "cell_type": "code",
   "metadata": {
    "id": "M7fK03GFX_3q",
    "colab": {
     "base_uri": "https://localhost:8080/",
     "height": 265
    },
    "outputId": "60366447-c199-4396-a590-d73fd6c20fb6"
   },
   "source": [
    "pd_test = pd.read_table(\"4FAZA.out\",sep=\" \")\n",
    "plt.scatter(pd_test[\"apc\"],mtx[\"apc\"])\n",
    "plt.show()"
   ],
   "execution_count": 24,
   "outputs": [
    {
     "output_type": "display_data",
     "data": {
      "image/png": "[encoded data removed]",
      "text/plain": [
       "<Figure size 432x288 with 1 Axes>"
      ]
     },
     "metadata": {
      "needs_background": "light"
     }
    }
   ]
  },
  {
   "cell_type": "markdown",
   "metadata": {
    "id": "-dw9TGERe3cw"
   },
   "source": [
    "## Useful input features for NN (Neural Networks)\n",
    "\n",
    "The \"apc\" values are typically used as input to the NN for contact cleaning or structure prediction. Though in recent advances (aka DeepMind/Alphafold), the entire MRF was used as the input. More specificially LxLx442. The 442 channels are the 21x21 + (raw and/or apc) value."
   ]
  },
  {
   "cell_type": "code",
   "metadata": {
    "id": "nqbDMKdsYG7Q",
    "colab": {
     "base_uri": "https://localhost:8080/"
    },
    "outputId": "bc3fee06-1c1b-4d3c-de1f-2c35669f4f8b"
   },
   "source": [
    "w_out = np.zeros((msa[\"ncol_ori\"], msa[\"ncol_ori\"], states * states + 1))\n",
    "v_out = np.zeros((msa[\"ncol_ori\"], states))\n",
    "\n",
    "mrf_ = np.reshape(mrf[\"w\"],(-1, states * states))\n",
    "mtx_ = np.expand_dims(mtx[\"apc\"],-1)\n",
    "\n",
    "w_out[(mtx[\"i\"],mtx[\"j\"])] = np.concatenate((mrf_, mtx_),-1)\n",
    "w_out += np.transpose(w_out,(1,0,2))\n",
    "v_out[mrf[\"v_idx\"]] = mrf[\"v\"]\n",
    "\n",
    "print(\"w_out\",w_out.shape)\n",
    "print(\"v_out\",v_out.shape)"
   ],
   "execution_count": 25,
   "outputs": [
    {
     "output_type": "stream",
     "name": "stdout",
     "text": [
      "w_out (62, 62, 442)\n",
      "v_out (62, 21)\n"
     ]
    }
   ]
  },
  {
   "cell_type": "code",
   "metadata": {
    "id": "_4fGmBsW4q94"
   },
   "source": [
    ""
   ],
   "execution_count": null,
   "outputs": []
  }
 ]
}